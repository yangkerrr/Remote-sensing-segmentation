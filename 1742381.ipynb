{
 "cells": [
  {
   "cell_type": "markdown",
   "metadata": {
    "collapsed": false
   },
   "source": [
    "# 常规赛：遥感影像地块分割4月第八名"
   ]
  },
  {
   "cell_type": "markdown",
   "metadata": {
    "collapsed": false
   },
   "source": [
    "## 赛题简介"
   ]
  },
  {
   "cell_type": "markdown",
   "metadata": {
    "collapsed": false
   },
   "source": [
    "赛题任务\n",
    "本赛题旨在对遥感影像进行像素级内容解析，并对遥感影像中感兴趣的类别进行提取和分类，以衡量遥感影像地块分割模型在多个类别（如建筑、道路、林地等）上的效果。\n",
    "\n",
    "数据说明\n",
    "本赛题提供了多个地区已脱敏的遥感影像数据，各参赛选手可以基于这些数据构建自己的地块分割模型。\n",
    "\n",
    "训练数据集\n",
    "样例图片及其标注如下图所示：\n",
    "\n",
    "![](https://ai-studio-static-online.cdn.bcebos.com/173cfdc82976423995f4eeea7de014f38c238cd2d5164327860ff80a405a88ea)\n",
    "![](https://ai-studio-static-online.cdn.bcebos.com/6a64fdeea4544f9f9c99a68dbc3a6fbc5f564c825c5248d18fde668061f7a44f)\n",
    "![](https://ai-studio-static-online.cdn.bcebos.com/6cedfc4a8aa749668b580546ff6a3ab1edd8dea930464e7e9c9379d574be4d62)\n",
    "![](https://ai-studio-static-online.cdn.bcebos.com/037ae8d79ae446cda5227a7162c70bacab3da6e958cd4b6ebddc220fd721b4ab)\n",
    "\n",
    "\n",
    "训练数据集文件名称：train_and_label.zip\n",
    "包含2个子文件，分别为：训练数据集（原始图片）文件、训练数据集（标注图片）文件，详细介绍如下：\n",
    "\n",
    "训练数据集（原始图片）文件名称：img_train\n",
    "包含66,653张分辨率为2m/pixel，尺寸为256 * 256的JPG图片，每张图片的名称形如T000123.jpg。\n",
    "\n",
    "训练数据集（标注图片）文件名称：lab_train\n",
    "包含66,653张分辨率为2m/pixel，尺寸为256 * 256的PNG图片，每张图片的名称形如T000123.png。\n",
    "备注： 全部PNG图片共包括4种分类，像素值分别为0、1、2、3。此外，像素值255为未标注区域，表示对应区域的所属类别并不确定，在评测中也不会考虑这部分区域。\n",
    "\n",
    "测试数据集\n",
    "测试数据集文件名称：img_test.zip，详细介绍如下：\n",
    "包含4,609张分辨率为2m/pixel，尺寸为256 * 256的JPG图片，文件名称形如123.jpg。"
   ]
  },
  {
   "cell_type": "markdown",
   "metadata": {
    "collapsed": false
   },
   "source": [
    "## 本项目基于PaddleSeg进行训练与推理"
   ]
  },
  {
   "cell_type": "markdown",
   "metadata": {
    "collapsed": false
   },
   "source": [
    "### 首先下载paddleseg，并安装所需的环境"
   ]
  },
  {
   "cell_type": "code",
   "execution_count": null,
   "metadata": {
    "collapsed": false
   },
   "outputs": [],
   "source": [
    "!git clone https://gitee.com/PaddlePaddle/PaddleSeg\r\n",
    "!pip install paddleseg"
   ]
  },
  {
   "cell_type": "markdown",
   "metadata": {
    "collapsed": false
   },
   "source": [
    "### 解压数据集并对数据集进行训练集和验证集的划分"
   ]
  },
  {
   "cell_type": "code",
   "execution_count": null,
   "metadata": {
    "collapsed": false
   },
   "outputs": [
    {
     "name": "stdout",
     "output_type": "stream",
     "text": [
      "  inflating: img_testA/1376.jpg      \r"
     ]
    }
   ],
   "source": [
    "!unzip data/data77571/img_test.zip"
   ]
  },
  {
   "cell_type": "markdown",
   "metadata": {
    "collapsed": false
   },
   "source": [
    "### 划分训练集和验证集，由于数据量较多，验证集图片数量划分少一些，按照0.97：0.03划分"
   ]
  },
  {
   "cell_type": "code",
   "execution_count": null,
   "metadata": {
    "collapsed": false
   },
   "outputs": [],
   "source": [
    "import matplotlib.pyplot as plt\r\n",
    "import numpy as np\r\n",
    "import os\r\n",
    "import cv2\r\n",
    "import random\r\n",
    "import shutil\r\n",
    "from shutil import copyfile\r\n",
    "data_path = \"img_train//\"\r\n",
    "path_origin = \"img_train\"\r\n",
    "label_path = \"lab_train\"\r\n",
    "files = list(filter(lambda x: x.endswith('.jpg'), os.listdir(path_origin)))\r\n",
    "random.shuffle(files)\r\n",
    "rate = int(len(files) * 0.97)\r\n",
    "train_txt = open('train.txt','w')\r\n",
    "val_txt = open('val.txt','w')\r\n",
    "for i,f in enumerate(files):\r\n",
    "    image_path = os.path.join(path_origin, f)\r\n",
    "    label_name = f.split('.')[0]+\".png\"\r\n",
    "    target_image = os.path.join(path_origin, f)\r\n",
    "    target_label = os.path.join(label_path, label_name)\r\n",
    "    if i < rate: \r\n",
    "        train_txt.write(target_image + ' ' + target_label+ '\\n')\r\n",
    "    else:\r\n",
    "        val_txt.write(target_image + ' ' + target_label+ '\\n')"
   ]
  },
  {
   "cell_type": "code",
   "execution_count": null,
   "metadata": {
    "collapsed": false
   },
   "outputs": [
    {
     "name": "stdout",
     "output_type": "stream",
     "text": [
      "4608\n"
     ]
    }
   ],
   "source": [
    "files = list(filter(lambda x: x.endswith('.jpg'), os.listdir(\"img_testA/\")))\r\n",
    "print(len(files))"
   ]
  },
  {
   "cell_type": "markdown",
   "metadata": {
    "collapsed": false
   },
   "source": [
    "### 模型训练与调优"
   ]
  },
  {
   "cell_type": "markdown",
   "metadata": {
    "collapsed": false
   },
   "source": [
    "#### 使用PaddleSeg中ocrnet进行训练，具体训练配置可见configs/ocrnet/remote.yml"
   ]
  },
  {
   "cell_type": "code",
   "execution_count": null,
   "metadata": {
    "collapsed": false
   },
   "outputs": [
    {
     "name": "stdout",
     "output_type": "stream",
     "text": [
      "/home/aistudio/PaddleSeg\n"
     ]
    }
   ],
   "source": [
    "cd PaddleSeg/"
   ]
  },
  {
   "cell_type": "markdown",
   "metadata": {
    "collapsed": false
   },
   "source": [
    "#### 训练"
   ]
  },
  {
   "cell_type": "code",
   "execution_count": null,
   "metadata": {
    "collapsed": false
   },
   "outputs": [],
   "source": [
    "!python train.py --config configs/ocrnet/remote.yml --do_eval #--resume_model output/best_model"
   ]
  },
  {
   "cell_type": "markdown",
   "metadata": {
    "collapsed": false
   },
   "source": [
    "#### 进行测试"
   ]
  },
  {
   "cell_type": "markdown",
   "metadata": {
    "collapsed": false
   },
   "source": [
    "#### 由于在paddleseg没有找到保存图片的选项，所以对源代码添加了图片保存，具体如下130-133行，添加文件 PaddleSeg/paddleseg/core/predict.py\n",
    "\n",
    "![](https://ai-studio-static-online.cdn.bcebos.com/6dff8dc941fc4b0e8342cdc3e6bf43b813c93a915795493fb2808211c16d3658)\n",
    "\n"
   ]
  },
  {
   "cell_type": "code",
   "execution_count": 7,
   "metadata": {
    "collapsed": false
   },
   "outputs": [
    {
     "name": "stdout",
     "output_type": "stream",
     "text": [
      "/opt/conda/envs/python35-paddle120-env/lib/python3.7/site-packages/paddle/fluid/layers/utils.py:26: DeprecationWarning: `np.int` is a deprecated alias for the builtin `int`. To silence this warning, use `int` by itself. Doing this will not modify any behavior and is safe. When replacing `np.int`, you may wish to use e.g. `np.int64` or `np.int32` to specify the precision. If you wish to review your current use, check the release note link for additional information.\n",
      "Deprecated in NumPy 1.20; for more details and guidance: https://numpy.org/devdocs/release/1.20.0-notes.html#deprecations\n",
      "  def convert_to_list(value, n, name, dtype=np.int):\n",
      "2021-05-09 08:37:17 [INFO]\t\n",
      "---------------Config Information---------------\n",
      "batch_size: 64\n",
      "iters: 1600000\n",
      "learning_rate:\n",
      "  decay:\n",
      "    power: 0.9\n",
      "    type: poly\n",
      "  value: 0.01\n",
      "loss:\n",
      "  coef:\n",
      "  - 1\n",
      "  - 0.4\n",
      "  types:\n",
      "  - coef:\n",
      "    - 1\n",
      "    - 0.01\n",
      "    losses:\n",
      "    - type: CrossEntropyLoss\n",
      "    - type: LovaszHingeLoss\n",
      "    type: MixedLoss\n",
      "  - coef:\n",
      "    - 1\n",
      "    - 0.01\n",
      "    losses:\n",
      "    - type: CrossEntropyLoss\n",
      "    - type: LovaszHingeLoss\n",
      "    type: MixedLoss\n",
      "model:\n",
      "  backbone:\n",
      "    pretrained: https://bj.bcebos.com/paddleseg/dygraph/hrnet_w18_ssld.tar.gz\n",
      "    type: HRNet_W18\n",
      "  backbone_indices:\n",
      "  - 0\n",
      "  type: OCRNet\n",
      "optimizer:\n",
      "  type: sgd\n",
      "train_dataset:\n",
      "  dataset_root: /home/aistudio\n",
      "  mode: train\n",
      "  num_classes: 4\n",
      "  train_path: /home/aistudio/train.txt\n",
      "  transforms:\n",
      "  - max_scale_factor: 2.0\n",
      "    min_scale_factor: 0.5\n",
      "    scale_step_size: 0.25\n",
      "    type: ResizeStepScaling\n",
      "  - crop_size:\n",
      "    - 256\n",
      "    - 256\n",
      "    type: RandomPaddingCrop\n",
      "  - type: RandomHorizontalFlip\n",
      "  - type: Normalize\n",
      "  type: Dataset\n",
      "val_dataset:\n",
      "  dataset_root: /home/aistudio\n",
      "  mode: val\n",
      "  num_classes: 4\n",
      "  transforms:\n",
      "  - type: Normalize\n",
      "  type: Dataset\n",
      "  val_path: /home/aistudio/val.txt\n",
      "------------------------------------------------\n",
      "W0509 08:37:18.013245  3052 device_context.cc:362] Please NOTE: device: 0, GPU Compute Capability: 7.0, Driver API Version: 10.1, Runtime API Version: 10.1\n",
      "W0509 08:37:18.013303  3052 device_context.cc:372] device: 0, cuDNN Version: 7.6.\n",
      "2021-05-09 08:37:23 [INFO]\tLoading pretrained model from https://bj.bcebos.com/paddleseg/dygraph/hrnet_w18_ssld.tar.gz\n",
      "2021-05-09 08:37:23,275 - INFO - Lock 139755317736016 acquired on /home/aistudio/.paddleseg/tmp/hrnet_w18_ssld\n",
      "2021-05-09 08:37:23,275 - INFO - Lock 139755317736016 released on /home/aistudio/.paddleseg/tmp/hrnet_w18_ssld\n",
      "2021-05-09 08:37:24 [INFO]\tThere are 1525/1525 variables loaded into HRNet.\n",
      "2021-05-09 08:37:24 [INFO]\tNumber of predict images = 4608\n",
      "2021-05-09 08:37:24 [INFO]\tLoading pretrained model from output/best_model/model.pdparams\n",
      "2021-05-09 08:37:25 [INFO]\tThere are 1583/1583 variables loaded into OCRNet.\n",
      "2021-05-09 08:37:25 [INFO]\tStart to predict...\n",
      " 227/4608 [>.............................] - ETA: 8:3^C\n",
      "Traceback (most recent call last):\n",
      "  File \"predict.py\", line 177, in <module>\n",
      "    main(args)\n",
      "  File \"predict.py\", line 171, in main\n",
      "    stride=args.stride,\n",
      "  File \"/home/aistudio/PaddleSeg/paddleseg/core/predict.py\", line 115, in predict\n",
      "    crop_size=crop_size)\n",
      "  File \"/home/aistudio/PaddleSeg/paddleseg/core/infer.py\", line 186, in inference\n",
      "    logits = model(im)\n",
      "  File \"/opt/conda/envs/python35-paddle120-env/lib/python3.7/site-packages/paddle/fluid/dygraph/layers.py\", line 902, in __call__\n",
      "    outputs = self.forward(*inputs, **kwargs)\n",
      "  File \"/home/aistudio/PaddleSeg/paddleseg/models/ocrnet.py\", line 71, in forward\n",
      "    feats = self.backbone(x)\n",
      "  File \"/opt/conda/envs/python35-paddle120-env/lib/python3.7/site-packages/paddle/fluid/dygraph/layers.py\", line 902, in __call__\n",
      "    outputs = self.forward(*inputs, **kwargs)\n",
      "  File \"/home/aistudio/PaddleSeg/paddleseg/models/backbones/hrnet.py\", line 169, in forward\n",
      "    st4 = self.st4(tr3)\n",
      "  File \"/opt/conda/envs/python35-paddle120-env/lib/python3.7/site-packages/paddle/fluid/dygraph/layers.py\", line 902, in __call__\n",
      "    outputs = self.forward(*inputs, **kwargs)\n",
      "  File \"/home/aistudio/PaddleSeg/paddleseg/models/backbones/hrnet.py\", line 506, in forward\n",
      "    out = self.stage_func_list[idx](out)\n",
      "  File \"/opt/conda/envs/python35-paddle120-env/lib/python3.7/site-packages/paddle/fluid/dygraph/layers.py\", line 902, in __call__\n",
      "    outputs = self.forward(*inputs, **kwargs)\n",
      "  File \"/home/aistudio/PaddleSeg/paddleseg/models/backbones/hrnet.py\", line 536, in forward\n",
      "    out = self.branches_func(x)\n",
      "  File \"/opt/conda/envs/python35-paddle120-env/lib/python3.7/site-packages/paddle/fluid/dygraph/layers.py\", line 902, in __call__\n",
      "    outputs = self.forward(*inputs, **kwargs)\n",
      "  File \"/home/aistudio/PaddleSeg/paddleseg/models/backbones/hrnet.py\", line 297, in forward\n",
      "    conv = basic_block_func(conv)\n",
      "  File \"/opt/conda/envs/python35-paddle120-env/lib/python3.7/site-packages/paddle/fluid/dygraph/layers.py\", line 902, in __call__\n",
      "    outputs = self.forward(*inputs, **kwargs)\n",
      "  File \"/home/aistudio/PaddleSeg/paddleseg/models/backbones/hrnet.py\", line 413, in forward\n",
      "    conv1 = self.conv1(x)\n",
      "  File \"/opt/conda/envs/python35-paddle120-env/lib/python3.7/site-packages/paddle/fluid/dygraph/layers.py\", line 886, in __call__\n",
      "    with param_guard(self._parameters), param_guard(self._buffers):\n",
      "  File \"</opt/conda/envs/python35-paddle120-env/lib/python3.7/site-packages/decorator.py:decorator-gen-40>\", line 2, in param_guard\n",
      "  File \"/opt/conda/envs/python35-paddle120-env/lib/python3.7/site-packages/paddle/fluid/wrapped_decorator.py\", line 24, in __impl__\n",
      "    wrapped_func = decorator_func(func)\n",
      "  File \"/opt/conda/envs/python35-paddle120-env/lib/python3.7/contextlib.py\", line 237, in contextmanager\n",
      "    @wraps(func)\n",
      "KeyboardInterrupt\n"
     ]
    }
   ],
   "source": [
    "!python predict.py --config configs/ocrnet/remote.yml --model_path output/best_model/model.pdparams --image_path ../img_testA/"
   ]
  },
  {
   "cell_type": "markdown",
   "metadata": {
    "collapsed": false
   },
   "source": [
    "#### 压缩结果"
   ]
  },
  {
   "cell_type": "code",
   "execution_count": 10,
   "metadata": {
    "collapsed": false
   },
   "outputs": [],
   "source": [
    "!zip result.zip -r output/result/result/"
   ]
  }
 ],
 "metadata": {
  "kernelspec": {
   "display_name": "PaddlePaddle 2.0.0b0 (Python 3.5)",
   "language": "python",
   "name": "py35-paddle1.2.0"
  },
  "language_info": {
   "codemirror_mode": {
    "name": "ipython",
    "version": 3
   },
   "file_extension": ".py",
   "mimetype": "text/x-python",
   "name": "python",
   "nbconvert_exporter": "python",
   "pygments_lexer": "ipython3",
   "version": "3.7.4"
  }
 },
 "nbformat": 4,
 "nbformat_minor": 1
}
